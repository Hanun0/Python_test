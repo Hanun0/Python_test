{
 "cells": [
  {
   "cell_type": "code",
   "execution_count": 13,
   "id": "1cbcd550",
   "metadata": {},
   "outputs": [
    {
     "name": "stdout",
     "output_type": "stream",
     "text": [
      "숫자 1~50을 맞춰보세요.\n",
      "좀더 높게\n",
      "좀더 높게\n",
      "좀더 낮게\n",
      "좀더 낮게\n",
      "좀더 낮게\n",
      "좀더 낮게\n",
      "좀더 높게\n",
      "좀더 높게\n",
      "좀더 높게\n",
      "좀더 높게\n",
      "좀더 높게\n",
      "좀더 낮게\n",
      "좀더 높게\n",
      "좀더 높게\n",
      "좀더 높게\n",
      "좀더 낮게\n",
      "좀더 낮게\n",
      "좀더 낮게\n",
      "좀더 낮게\n",
      "정답 20번 만에 맞추셨습니다\n",
      "정답을 맞추셔서 게임이 끝났습니다.\n",
      "-너무 어거지로 끼워맞춘거 같아 잘 된건지 모르겠습니다... 어렵습니다..-\n"
     ]
    }
   ],
   "source": [
    "import random\n",
    "\n",
    "secret_number = random.randint(1,50)\n",
    "attempts = 0\n",
    "print(\"숫자 1~50을 맞춰보세요.\")\n",
    "\n",
    "while True :\n",
    "    user = int(input(\"숫자를 입력하세요\"))\n",
    "    attempts += 1\n",
    "\n",
    "    if user == secret_number:\n",
    "        print(f\"정답 {attempts}번 만에 맞추셨습니다\")\n",
    "        break\n",
    "    elif user < secret_number:\n",
    "        print(\"좀더 높게\")\n",
    "    else:\n",
    "        print(\"좀더 낮게\")\n",
    "\n",
    "print(\"정답을 맞추셔서 게임이 끝났습니다.\")\n",
    "\n",
    "print(\"-너무 어거지로 끼워맞춘거 같아 잘 된건지 모르겠습니다... 어렵습니다..-\")\n",
    "\n",
    "    \n",
    "\n",
    "\n"
   ]
  },
  {
   "cell_type": "code",
   "execution_count": null,
   "id": "9b1ab5ec",
   "metadata": {},
   "outputs": [],
   "source": []
  }
 ],
 "metadata": {
  "kernelspec": {
   "display_name": "Python 3",
   "language": "python",
   "name": "python3"
  },
  "language_info": {
   "codemirror_mode": {
    "name": "ipython",
    "version": 3
   },
   "file_extension": ".py",
   "mimetype": "text/x-python",
   "name": "python",
   "nbconvert_exporter": "python",
   "pygments_lexer": "ipython3",
   "version": "3.13.7"
  }
 },
 "nbformat": 4,
 "nbformat_minor": 5
}
