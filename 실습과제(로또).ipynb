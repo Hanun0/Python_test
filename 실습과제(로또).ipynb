{
 "cells": [
  {
   "cell_type": "code",
   "execution_count": null,
   "id": "694735e2",
   "metadata": {},
   "outputs": [
    {
     "name": "stdout",
     "output_type": "stream",
     "text": [
      "1번째 로또: [1, 18, 29, 33, 36, 46]\n",
      "2번째 로또: [7, 10, 13, 29, 37, 46]\n",
      "3번째 로또: [11, 17, 31, 39, 41, 46]\n",
      "4번째 로또: [2, 9, 23, 25, 33, 45]\n",
      "5번째 로또: [7, 22, 24, 32, 36, 48]\n",
      "6번째 로또: [2, 13, 14, 17, 33, 35]\n",
      "7번째 로또: [1, 5, 10, 22, 24, 35]\n",
      "8번째 로또: [8, 25, 27, 41, 46, 49]\n",
      "9번째 로또: [12, 15, 29, 31, 36, 43]\n",
      "10번째 로또: [8, 9, 13, 22, 23, 26]\n"
     ]
    }
   ],
   "source": [
    "import random\n",
    "\n",
    "def lotto_ticket():\n",
    "    ticket = random.sample(range(1, 50), 6)\n",
    "    ticket.sort()\n",
    "    return ticket\n",
    "\n",
    "\n",
    "def tickets(n):\n",
    "    tickets = []\n",
    "    for _ in range(n):\n",
    "        ticket = lotto_ticket()\n",
    "        tickets.append(ticket)\n",
    "    return tickets\n",
    "\n",
    "\n",
    "my_tickets = tickets(10)\n",
    "\n",
    "\n",
    "for idx, ticket in enumerate(my_tickets, start=1):\n",
    "    print(f\"{idx}번째 로또: {ticket}\")\n",
    "\n",
    "\n",
    "# 이번 로또 제작하는 코드는 이해도가 너무 부족해서 어떻게든 이해하고싶어 과제랑 챗gpt 참조하면서 만들었습니다..\n",
    "# 솔직히 말해서 만들었다 했지만 거의 갖다 붙여넣은 수준이라 이해를 할려면 여러번 찾아봐야할꺼 같습니다... 어렵다.."
   ]
  },
  {
   "cell_type": "code",
   "execution_count": null,
   "id": "4a40790a",
   "metadata": {},
   "outputs": [],
   "source": []
  }
 ],
 "metadata": {
  "kernelspec": {
   "display_name": "Python 3",
   "language": "python",
   "name": "python3"
  },
  "language_info": {
   "codemirror_mode": {
    "name": "ipython",
    "version": 3
   },
   "file_extension": ".py",
   "mimetype": "text/x-python",
   "name": "python",
   "nbconvert_exporter": "python",
   "pygments_lexer": "ipython3",
   "version": "3.13.7"
  }
 },
 "nbformat": 4,
 "nbformat_minor": 5
}
